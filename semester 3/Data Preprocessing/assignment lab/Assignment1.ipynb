{
  "nbformat": 4,
  "nbformat_minor": 0,
  "metadata": {
    "colab": {
      "name": "Assignment1.ipynb",
      "provenance": []
    },
    "kernelspec": {
      "name": "python3",
      "display_name": "Python 3"
    },
    "language_info": {
      "name": "python"
    }
  },
  "cells": [
    {
      "cell_type": "markdown",
      "metadata": {
        "id": "PT8TmjZbtGDU"
      },
      "source": [
        "**NumPy**"
      ]
    },
    {
      "cell_type": "code",
      "metadata": {
        "colab": {
          "base_uri": "https://localhost:8080/"
        },
        "id": "_RORAuxAsfWV",
        "outputId": "5b88226f-f851-488d-a077-08aca8045b20"
      },
      "source": [
        "import numpy as np\n",
        " \n",
        "# Creating two arrays of rank 2\n",
        "x =np.array([[1, 2], [3, 4]])\n",
        "y =np.array([[5, 6], [7, 8]])\n",
        " \n",
        "# Creating two arrays of rank 1\n",
        "v =np.array([9, 10])\n",
        "w =np.array([11, 12])\n",
        " \n",
        "# Inner product of vectors\n",
        "print(np.dot(v, w), \"\\n\")\n",
        " \n",
        "# Matrix and Vector product\n",
        "print(np.dot(x, v), \"\\n\")\n",
        " \n",
        "# Matrix and matrix product\n",
        "print(np.dot(x, y))\n"
      ],
      "execution_count": 2,
      "outputs": [
        {
          "output_type": "stream",
          "name": "stdout",
          "text": [
            "219 \n",
            "\n",
            "[29 67] \n",
            "\n",
            "[[19 22]\n",
            " [43 50]]\n"
          ]
        }
      ]
    },
    {
      "cell_type": "markdown",
      "metadata": {
        "id": "ccVUSST8tLL6"
      },
      "source": [
        "**Pandas**"
      ]
    },
    {
      "cell_type": "code",
      "metadata": {
        "colab": {
          "base_uri": "https://localhost:8080/"
        },
        "id": "kJA9Hvy0steV",
        "outputId": "898ed0b0-e997-45e4-97d4-3fc3537c2cfe"
      },
      "source": [
        "import pandas as pd\n",
        " \n",
        "data ={\"country\": [\"Brazil\", \"Russia\", \"India\", \"China\", \"South Africa\"],\n",
        "       \"capital\": [\"Brasilia\", \"Moscow\", \"New Dehli\", \"Beijing\", \"Pretoria\"],\n",
        "       \"area\": [8.516, 17.10, 3.286, 9.597, 1.221],\n",
        "       \"population\": [200.4, 143.5, 1252, 1357, 52.98] }\n",
        " \n",
        "data_table =pd.DataFrame(data)\n",
        "print(data_table)\n"
      ],
      "execution_count": 3,
      "outputs": [
        {
          "output_type": "stream",
          "name": "stdout",
          "text": [
            "        country    capital    area  population\n",
            "0        Brazil   Brasilia   8.516      200.40\n",
            "1        Russia     Moscow  17.100      143.50\n",
            "2         India  New Dehli   3.286     1252.00\n",
            "3         China    Beijing   9.597     1357.00\n",
            "4  South Africa   Pretoria   1.221       52.98\n"
          ]
        }
      ]
    },
    {
      "cell_type": "markdown",
      "metadata": {
        "id": "ilIlslMUtOFY"
      },
      "source": [
        "**Matplotlib**"
      ]
    },
    {
      "cell_type": "code",
      "metadata": {
        "colab": {
          "base_uri": "https://localhost:8080/",
          "height": 265
        },
        "id": "TrlfdY0gsymf",
        "outputId": "77143c08-6f92-4cf5-bd56-b15d2f30c771"
      },
      "source": [
        "import matplotlib.pyplot as plt\n",
        "import numpy as np\n",
        " \n",
        "# Prepare the data\n",
        "x =np.linspace(0, 10, 100)\n",
        " \n",
        "# Plot the data\n",
        "plt.plot(x, x, label ='linear')\n",
        " \n",
        "# Add a legend\n",
        "plt.legend()\n",
        " \n",
        "# Show the plot\n",
        "plt.show()\n"
      ],
      "execution_count": 4,
      "outputs": [
        {
          "output_type": "display_data",
          "data": {
            "image/png": "[encoded data removed]",
            "text/plain": [
              "<Figure size 432x288 with 1 Axes>"
            ]
          },
          "metadata": {
            "needs_background": "light"
          }
        }
      ]
    }
  ]
}