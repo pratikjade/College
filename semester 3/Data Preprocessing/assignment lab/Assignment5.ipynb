{
  "nbformat": 4,
  "nbformat_minor": 0,
  "metadata": {
    "colab": {
      "name": "Assignment5.ipynb",
      "provenance": []
    },
    "kernelspec": {
      "name": "python3",
      "display_name": "Python 3"
    },
    "language_info": {
      "name": "python"
    }
  },
  "cells": [
    {
      "cell_type": "code",
      "metadata": {
        "colab": {
          "base_uri": "https://localhost:8080/"
        },
        "id": "Jmz3kxPkAGKD",
        "outputId": "cd05d212-6f5a-4a96-bb4b-7e13b3c79a9a"
      },
      "source": [
        "from sklearn import preprocessing\n",
        "import numpy as np\n",
        "\n",
        "a = np.random.random((1, 4))\n",
        "a = a*20\n",
        "print(\"Data = \", a)\n",
        "\n",
        "# normalize the data attributes\n",
        "normalized = preprocessing.normalize(a)\n",
        "print(\"Normalized Data = \", normalized)"
      ],
      "execution_count": 1,
      "outputs": [
        {
          "output_type": "stream",
          "name": "stdout",
          "text": [
            "Data =  [[ 9.51529499 16.97446953 14.77822711  5.05137657]]\n",
            "Normalized Data =  [[0.38134902 0.68029391 0.59227406 0.20244643]]\n"
          ]
        }
      ]
    }
  ]
}