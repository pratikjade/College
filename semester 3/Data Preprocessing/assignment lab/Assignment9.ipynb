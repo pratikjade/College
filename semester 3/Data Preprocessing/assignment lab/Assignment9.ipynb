{
 "cells": [
  {
   "cell_type": "markdown",
   "metadata": {},
   "source": [
    "Binarization methods on given data set"
   ]
  },
  {
   "cell_type": "code",
   "execution_count": 1,
   "metadata": {
    "id": "_WVUDp6F0RNl"
   },
   "outputs": [],
   "source": [
    "# Python code explaining how\n",
    "# to Binarize feature values\n",
    "  \n",
    "\"\"\" PART 1\n",
    "    Importing Libraries \"\"\"\n",
    "  \n",
    "import numpy as np\n",
    "import matplotlib.pyplot as plt\n",
    "import pandas as pd\n",
    " \n",
    "# Sklearn library\n",
    "from sklearn import preprocessing"
   ]
  },
  {
   "cell_type": "code",
   "execution_count": 2,
   "metadata": {
    "colab": {
     "base_uri": "https://localhost:8080/",
     "height": 206
    },
    "id": "vg-68MoM0hjQ",
    "outputId": "7238d84c-493f-4d7a-b0a1-855256035cc3"
   },
   "outputs": [
    {
     "data": {
      "text/html": [
       "<div>\n",
       "<style scoped>\n",
       "    .dataframe tbody tr th:only-of-type {\n",
       "        vertical-align: middle;\n",
       "    }\n",
       "\n",
       "    .dataframe tbody tr th {\n",
       "        vertical-align: top;\n",
       "    }\n",
       "\n",
       "    .dataframe thead th {\n",
       "        text-align: right;\n",
       "    }\n",
       "</style>\n",
       "<table border=\"1\" class=\"dataframe\">\n",
       "  <thead>\n",
       "    <tr style=\"text-align: right;\">\n",
       "      <th></th>\n",
       "      <th>Country</th>\n",
       "      <th>Age</th>\n",
       "      <th>Salary</th>\n",
       "      <th>Purchased</th>\n",
       "    </tr>\n",
       "  </thead>\n",
       "  <tbody>\n",
       "    <tr>\n",
       "      <th>0</th>\n",
       "      <td>France</td>\n",
       "      <td>44</td>\n",
       "      <td>72000</td>\n",
       "      <td>No</td>\n",
       "    </tr>\n",
       "    <tr>\n",
       "      <th>1</th>\n",
       "      <td>Spain</td>\n",
       "      <td>27</td>\n",
       "      <td>48000</td>\n",
       "      <td>Yes</td>\n",
       "    </tr>\n",
       "    <tr>\n",
       "      <th>2</th>\n",
       "      <td>Germany</td>\n",
       "      <td>30</td>\n",
       "      <td>54000</td>\n",
       "      <td>No</td>\n",
       "    </tr>\n",
       "    <tr>\n",
       "      <th>3</th>\n",
       "      <td>Spain</td>\n",
       "      <td>38</td>\n",
       "      <td>61000</td>\n",
       "      <td>No</td>\n",
       "    </tr>\n",
       "    <tr>\n",
       "      <th>4</th>\n",
       "      <td>Germany</td>\n",
       "      <td>40</td>\n",
       "      <td>54000</td>\n",
       "      <td>Yes</td>\n",
       "    </tr>\n",
       "  </tbody>\n",
       "</table>\n",
       "</div>"
      ],
      "text/plain": [
       "   Country  Age  Salary Purchased\n",
       "0   France   44   72000        No\n",
       "1    Spain   27   48000       Yes\n",
       "2  Germany   30   54000        No\n",
       "3    Spain   38   61000        No\n",
       "4  Germany   40   54000       Yes"
      ]
     },
     "execution_count": 2,
     "metadata": {},
     "output_type": "execute_result"
    }
   ],
   "source": [
    "data_set =  pd.read_csv(r\"C:\\Users\\prati\\Desktop\\Data_for_Missing_Values.csv\")\n",
    "data_set.head()"
   ]
  },
  {
   "cell_type": "code",
   "execution_count": 3,
   "metadata": {
    "colab": {
     "base_uri": "https://localhost:8080/"
    },
    "id": "4UupPihm041h",
    "outputId": "1770ece6-fa8a-4ef4-bc14-7a7c22fbf4a3"
   },
   "outputs": [
    {
     "name": "stdout",
     "output_type": "stream",
     "text": [
      "\n",
      "Original age data values : \n",
      " [44 27 30 38 40 35 38 48 50 37]\n",
      "\n",
      "Original salary data values : \n",
      " [72000 48000 54000 61000 54000 58000 52000 79000 83000 67000]\n"
     ]
    }
   ],
   "source": [
    "# here Features - Age and Salary columns\n",
    "# are taken using slicing\n",
    "# to binarize values\n",
    "age = data_set.iloc[:, 1].values\n",
    "salary = data_set.iloc[:, 2].values\n",
    "print (\"\\nOriginal age data values : \\n\",  age)\n",
    "print (\"\\nOriginal salary data values : \\n\",  salary)"
   ]
  },
  {
   "cell_type": "code",
   "execution_count": 4,
   "metadata": {
    "colab": {
     "base_uri": "https://localhost:8080/"
    },
    "id": "Z8IkQCuy-ZR5",
    "outputId": "ec848828-5430-48ea-d1d7-fdbf9396a4a2"
   },
   "outputs": [
    {
     "name": "stdout",
     "output_type": "stream",
     "text": [
      "\n",
      "Binarized age : \n",
      " [[1 0 0 1 1 0 1 1 1 1]]\n",
      "\n",
      "Binarized salary : \n",
      " [[1 1 1 1 1 1 1 1 1 1]]\n"
     ]
    }
   ],
   "source": [
    "\"\"\" PART 4\n",
    "    Binarizing values \"\"\"\n",
    " \n",
    "from sklearn.preprocessing import Binarizer\n",
    " \n",
    "x = age\n",
    "x = x.reshape(1, -1)\n",
    "y = salary\n",
    "y = y.reshape(1, -1)\n",
    " \n",
    "# For age, let threshold be 35\n",
    "# For salary, let threshold be 61000\n",
    "binarizer_1 = Binarizer(threshold=35, copy=True)\n",
    "binarizer_2 = Binarizer(threshold=6100, copy=True)\n",
    "#binarizer_1.fit_transform(x)\n",
    "\n",
    "#binarizer_1 = Binarizer(35)\n",
    "#binarizer_2 = Binarizer(61000)\n",
    "# Transformed feature\n",
    "print (\"\\nBinarized age : \\n\", binarizer_1.fit_transform(x))\n",
    "print (\"\\nBinarized salary : \\n\", binarizer_2.fit_transform(y))"
   ]
  },
  {
   "cell_type": "code",
   "execution_count": null,
   "metadata": {},
   "outputs": [],
   "source": []
  }
 ],
 "metadata": {
  "colab": {
   "collapsed_sections": [],
   "name": "ASSIGNMENT9.ipynb",
   "provenance": []
  },
  "kernelspec": {
   "display_name": "Python 3",
   "language": "python",
   "name": "python3"
  },
  "language_info": {
   "codemirror_mode": {
    "name": "ipython",
    "version": 3
   },
   "file_extension": ".py",
   "mimetype": "text/x-python",
   "name": "python",
   "nbconvert_exporter": "python",
   "pygments_lexer": "ipython3",
   "version": "3.8.5"
  }
 },
 "nbformat": 4,
 "nbformat_minor": 1
}
