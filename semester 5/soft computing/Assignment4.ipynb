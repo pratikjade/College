{
 "cells": [
  {
   "cell_type": "markdown",
   "metadata": {},
   "source": [
    "# A70 Pratik Jade  Pratical No- 4 "
   ]
  },
  {
   "cell_type": "markdown",
   "metadata": {
    "id": "z1w5gP-mD6LR"
   },
   "source": [
    "# Implimenting logic gate using mc culloch pitts model AND gate using mc culloch-pits network"
   ]
  },
  {
   "cell_type": "code",
   "execution_count": 1,
   "metadata": {
    "executionInfo": {
     "elapsed": 759,
     "status": "ok",
     "timestamp": 1667287527490,
     "user": {
      "displayName": "sanchit chemate",
      "userId": "16257595427341172199"
     },
     "user_tz": 420
    },
    "id": "4Jyto5RK9JCb"
   },
   "outputs": [],
   "source": [
    "#Step 1: generate a vector of inputs and a vector of weights##Implimenting logic gate using mc culloch pitts model AND gate using mc culloch-pits network\n",
    "import numpy as np"
   ]
  },
  {
   "cell_type": "code",
   "execution_count": 2,
   "metadata": {
    "colab": {
     "base_uri": "https://localhost:8080/"
    },
    "executionInfo": {
     "elapsed": 6,
     "status": "ok",
     "timestamp": 1667287528878,
     "user": {
      "displayName": "sanchit chemate",
      "userId": "16257595427341172199"
     },
     "user_tz": 420
    },
    "id": "U9-AVTFk9YWS",
    "outputId": "5193fa5e-c1be-479f-da1e-cb5f5b0f8646"
   },
   "outputs": [
    {
     "name": "stdout",
     "output_type": "stream",
     "text": [
      "input table:\n",
      "[[0 0]\n",
      " [0 1]\n",
      " [1 0]\n",
      " [1 1]]\n"
     ]
    }
   ],
   "source": [
    "# matrix of inputs\n",
    "input_table = np.array([\n",
    "    [0,0], # both no\n",
    "    [0,1], # one no, one yes\n",
    "    [1,0], # one yes, one no\n",
    "    [1,1]  # bot yes\n",
    "])\n",
    "\n",
    "print(f'input table:\\n{input_table}')"
   ]
  },
  {
   "cell_type": "code",
   "execution_count": 3,
   "metadata": {
    "colab": {
     "base_uri": "https://localhost:8080/"
    },
    "executionInfo": {
     "elapsed": 2,
     "status": "ok",
     "timestamp": 1667287531846,
     "user": {
      "displayName": "sanchit chemate",
      "userId": "16257595427341172199"
     },
     "user_tz": 420
    },
    "id": "oqpDKNtL9bUK",
    "outputId": "03f7008f-0e34-4b0b-c8e5-7704476d5b0a"
   },
   "outputs": [
    {
     "name": "stdout",
     "output_type": "stream",
     "text": [
      "weights: [1 1]\n"
     ]
    }
   ],
   "source": [
    "# array of weights\n",
    "weights = np.array([1,1])\n",
    "print(f'weights: {weights}')"
   ]
  },
  {
   "cell_type": "code",
   "execution_count": 4,
   "metadata": {
    "colab": {
     "base_uri": "https://localhost:8080/"
    },
    "executionInfo": {
     "elapsed": 5,
     "status": "ok",
     "timestamp": 1667287536075,
     "user": {
      "displayName": "sanchit chemate",
      "userId": "16257595427341172199"
     },
     "user_tz": 420
    },
    "id": "SpJwVanh9vFD",
    "outputId": "0dc62e05-30e0-4b5f-9c0c-19385b9dd3f3"
   },
   "outputs": [
    {
     "name": "stdout",
     "output_type": "stream",
     "text": [
      "Dot products: [0 1 1 2]\n"
     ]
    }
   ],
   "source": [
    "#Step 2: compute the dot product between the matrix of inputs and weights\n",
    "# dot product matrix of inputs and weights\n",
    "dot_products = input_table @ weights\n",
    "print(f'Dot products: {dot_products}')"
   ]
  },
  {
   "cell_type": "code",
   "execution_count": 5,
   "metadata": {
    "executionInfo": {
     "elapsed": 3,
     "status": "ok",
     "timestamp": 1667287538024,
     "user": {
      "displayName": "sanchit chemate",
      "userId": "16257595427341172199"
     },
     "user_tz": 420
    },
    "id": "AyUU6XYZ-YWM"
   },
   "outputs": [],
   "source": [
    "#Step 3: define the threshold activation function\n",
    "def linear_threshold_gate(dot: int, T: float) -> int:\n",
    "    '''Returns the binary threshold output'''\n",
    "    if dot >= T:\n",
    "        return 1\n",
    "    else:\n",
    "        return 0"
   ]
  },
  {
   "cell_type": "code",
   "execution_count": 6,
   "metadata": {
    "colab": {
     "base_uri": "https://localhost:8080/"
    },
    "executionInfo": {
     "elapsed": 4,
     "status": "ok",
     "timestamp": 1667287539365,
     "user": {
      "displayName": "sanchit chemate",
      "userId": "16257595427341172199"
     },
     "user_tz": 420
    },
    "id": "7UGepDPm9_HK",
    "outputId": "e120c799-f52c-468a-8734-342dbc7c1f6c"
   },
   "outputs": [
    {
     "name": "stdout",
     "output_type": "stream",
     "text": [
      "Activation: 0\n",
      "Activation: 0\n",
      "Activation: 0\n",
      "Activation: 1\n"
     ]
    }
   ],
   "source": [
    "#Step 4: compute the output based on the threshold value\n",
    "T = 2\n",
    "for i in range(0,4):\n",
    "    activation = linear_threshold_gate(dot_products[i], T)\n",
    "    print(f'Activation: {activation}')"
   ]
  },
  {
   "cell_type": "markdown",
   "metadata": {
    "id": "aLAK6v-AEC7Z"
   },
   "source": [
    "OR Function using mc culloch-pits network"
   ]
  },
  {
   "cell_type": "code",
   "execution_count": 7,
   "metadata": {
    "executionInfo": {
     "elapsed": 1,
     "status": "ok",
     "timestamp": 1667287579487,
     "user": {
      "displayName": "sanchit chemate",
      "userId": "16257595427341172199"
     },
     "user_tz": 420
    },
    "id": "2c4iXtSz-x5C"
   },
   "outputs": [],
   "source": [
    "#Now, let’s repeat the same four steps.\n",
    "\n",
    "#Step 1: generate a vector of inputs and a vector of weights\n",
    "        #Neither the matrix of inputs nor the array of weights changes, so we can reuse our input_table and weights vector.\n",
    "\n",
    "#Step 2: compute the dot product between the matrix of inputs and weights\n",
    "        #Since neither the matrix of inputs nor the vector of weights changes, the dot product of those stays the same.\n",
    "\n",
    "#Step 3: define the threshold activation function\n",
    "         #We can use the linear_threshold_gate function again."
   ]
  },
  {
   "cell_type": "code",
   "execution_count": 8,
   "metadata": {
    "colab": {
     "base_uri": "https://localhost:8080/"
    },
    "executionInfo": {
     "elapsed": 5,
     "status": "ok",
     "timestamp": 1667287580069,
     "user": {
      "displayName": "sanchit chemate",
      "userId": "16257595427341172199"
     },
     "user_tz": 420
    },
    "id": "c4J08Ysw_TXH",
    "outputId": "d7da19be-85e8-4cb0-a55a-845976d9f89d"
   },
   "outputs": [
    {
     "name": "stdout",
     "output_type": "stream",
     "text": [
      "Activation: 0\n",
      "Activation: 1\n",
      "Activation: 1\n",
      "Activation: 1\n"
     ]
    }
   ],
   "source": [
    "T = 1\n",
    "for i in range(0,4):\n",
    "    activation = linear_threshold_gate(dot_products[i], T)\n",
    "    print(f'Activation: {activation}')"
   ]
  },
  {
   "cell_type": "markdown",
   "metadata": {
    "id": "re4EHlqUELBx"
   },
   "source": [
    "NOT gate using mc culloch-pits network "
   ]
  },
  {
   "cell_type": "code",
   "execution_count": 9,
   "metadata": {
    "colab": {
     "base_uri": "https://localhost:8080/"
    },
    "executionInfo": {
     "elapsed": 2,
     "status": "ok",
     "timestamp": 1667287581225,
     "user": {
      "displayName": "sanchit chemate",
      "userId": "16257595427341172199"
     },
     "user_tz": 420
    },
    "id": "8T3IuvN8__Ly",
    "outputId": "17063eac-2926-4514-8ac8-ecfa2b1bf2cb"
   },
   "outputs": [
    {
     "name": "stdout",
     "output_type": "stream",
     "text": [
      "output= 1 \n",
      "output = 0\n"
     ]
    }
   ],
   "source": [
    "for i in range(0,2):\n",
    "  if i<1:\n",
    "    print('output= 1 ')\n",
    "  elif i >=1:\n",
    "    print('output = 0')\n",
    "                 "
   ]
  }
 ],
 "metadata": {
  "colab": {
   "authorship_tag": "ABX9TyOnlyIp1HQ63KWUkaTZkuVP",
   "collapsed_sections": [],
   "provenance": []
  },
  "kernelspec": {
   "display_name": "Python 3 (ipykernel)",
   "language": "python",
   "name": "python3"
  },
  "language_info": {
   "codemirror_mode": {
    "name": "ipython",
    "version": 3
   },
   "file_extension": ".py",
   "mimetype": "text/x-python",
   "name": "python",
   "nbconvert_exporter": "python",
   "pygments_lexer": "ipython3",
   "version": "3.9.12"
  }
 },
 "nbformat": 4,
 "nbformat_minor": 1
}
