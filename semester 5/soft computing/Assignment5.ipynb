{
 "cells": [
  {
   "attachments": {},
   "cell_type": "markdown",
   "id": "252cffcf",
   "metadata": {},
   "source": [
    "# Pratical no. 5"
   ]
  },
  {
   "cell_type": "markdown",
   "id": "586f13f6",
   "metadata": {},
   "source": [
    "# The McCulloch-Pitts Artificial Neuron Model"
   ]
  },
  {
   "cell_type": "code",
   "execution_count": 1,
   "id": "8795e7c3",
   "metadata": {},
   "outputs": [
    {
     "name": "stdout",
     "output_type": "stream",
     "text": [
      "Input vector:[0 1 1], Weight vector:[-1  1  1]\n"
     ]
    }
   ],
   "source": [
    "#Step 1: generate a vector of inputs and a vector of weights\n",
    "import numpy as np\n",
    "np.random.seed(seed=0)\n",
    "I = np.random.choice([0,1], 3)# generate random vector I, sampling from {0,1}\n",
    "W = np.random.choice([-1,1], 3) # generate random vector W, sampling from {-1,1} \n",
    "print(f'Input vector:{I}, Weight vector:{W}')"
   ]
  },
  {
   "cell_type": "code",
   "execution_count": 2,
   "id": "1e15e317",
   "metadata": {},
   "outputs": [
    {
     "name": "stdout",
     "output_type": "stream",
     "text": [
      "Dot product: 2\n"
     ]
    }
   ],
   "source": [
    "#Step 2: compute the dot product between the vector of inputs and weights\n",
    "dot = I @ W\n",
    "print(f'Dot product: {dot}')"
   ]
  },
  {
   "cell_type": "code",
   "execution_count": 3,
   "id": "4a8a0cc8",
   "metadata": {},
   "outputs": [],
   "source": [
    "#Step 3: define the threshold activation function\n",
    "def linear_threshold_gate(dot: int, T: float) -> int:\n",
    "    '''Returns the binary threshold output'''\n",
    "    if dot >= T:\n",
    "        return 1\n",
    "    else:\n",
    "        return 0"
   ]
  },
  {
   "cell_type": "code",
   "execution_count": 4,
   "id": "b4c95f60",
   "metadata": {},
   "outputs": [
    {
     "name": "stdout",
     "output_type": "stream",
     "text": [
      "Activation: 1\n"
     ]
    }
   ],
   "source": [
    "#Step 4: compute the output based on the threshold value\n",
    "T = 1\n",
    "activation = linear_threshold_gate(dot, T)\n",
    "print(f'Activation: {activation}')"
   ]
  },
  {
   "cell_type": "code",
   "execution_count": 5,
   "id": "fc692953",
   "metadata": {},
   "outputs": [
    {
     "name": "stdout",
     "output_type": "stream",
     "text": [
      "Activation: 0\n"
     ]
    }
   ],
   "source": [
    "T = 3\n",
    "activation = linear_threshold_gate(dot, T)\n",
    "print(f'Activation: {activation}')"
   ]
  },
  {
   "cell_type": "code",
   "execution_count": null,
   "id": "ed313132",
   "metadata": {},
   "outputs": [],
   "source": [
    "\n",
    "\n",
    "\n",
    "\n",
    "\n",
    "\n",
    "\n",
    "\n"
   ]
  },
  {
   "cell_type": "markdown",
   "id": "a8e6321b",
   "metadata": {},
   "source": [
    "# Boolean algebra using the McCulloch-Pitts artificial neuron"
   ]
  },
  {
   "cell_type": "code",
   "execution_count": 6,
   "id": "f0394550",
   "metadata": {
    "scrolled": true
   },
   "outputs": [
    {
     "name": "stdout",
     "output_type": "stream",
     "text": [
      "input table:\n",
      "[[0 0]\n",
      " [0 1]\n",
      " [1 0]\n",
      " [1 1]]\n"
     ]
    }
   ],
   "source": [
    "#Step 1: generate a vector of inputs and a vector of weights\n",
    "# matrix of inputs\n",
    "input_table = np.array([\n",
    "    [0,0], # both no\n",
    "    [0,1], # one no, one yes\n",
    "    [1,0], # one yes, one no\n",
    "    [1,1]  # bot yes\n",
    "])\n",
    "\n",
    "print(f'input table:\\n{input_table}')"
   ]
  },
  {
   "cell_type": "code",
   "execution_count": 7,
   "id": "400eba19",
   "metadata": {},
   "outputs": [
    {
     "name": "stdout",
     "output_type": "stream",
     "text": [
      "weights: [1 1]\n"
     ]
    }
   ],
   "source": [
    "# array of weights\n",
    "weights = np.array([1,1])\n",
    "print(f'weights: {weights}')"
   ]
  },
  {
   "cell_type": "code",
   "execution_count": 8,
   "id": "cd9eafd5",
   "metadata": {},
   "outputs": [
    {
     "name": "stdout",
     "output_type": "stream",
     "text": [
      "Dot products: [0 1 1 2]\n"
     ]
    }
   ],
   "source": [
    "#Step 2: compute the dot product between the matrix of inputs and weights\n",
    "# dot product matrix of inputs and weights\n",
    "dot_products = input_table @ weights\n",
    "print(f'Dot products: {dot_products}')"
   ]
  },
  {
   "cell_type": "code",
   "execution_count": 9,
   "id": "585c920e",
   "metadata": {},
   "outputs": [],
   "source": [
    "#step3: define the threshold activation function\n",
    "#We defined this already, so we will reuse our linear_threshold_gate function"
   ]
  },
  {
   "cell_type": "code",
   "execution_count": 10,
   "id": "2f6969bd",
   "metadata": {},
   "outputs": [
    {
     "name": "stdout",
     "output_type": "stream",
     "text": [
      "Activation: 0\n",
      "Activation: 0\n",
      "Activation: 0\n",
      "Activation: 1\n"
     ]
    }
   ],
   "source": [
    "#Step 4: compute the output based on the threshold value\n",
    "T = 2\n",
    "for i in range(0,4):\n",
    "    activation = linear_threshold_gate(dot_products[i], T)\n",
    "    print(f'Activation: {activation}')"
   ]
  },
  {
   "cell_type": "code",
   "execution_count": null,
   "id": "62d9356a",
   "metadata": {},
   "outputs": [],
   "source": [
    "\n",
    "\n",
    "\n",
    "\n",
    "\n"
   ]
  },
  {
   "cell_type": "markdown",
   "id": "fed971bc",
   "metadata": {},
   "source": [
    "# The OR Function"
   ]
  },
  {
   "cell_type": "code",
   "execution_count": 11,
   "id": "d57064be",
   "metadata": {},
   "outputs": [
    {
     "data": {
      "text/plain": [
       "'Step 1: generate a vector of inputs and a vector of weights\\nNeither the matrix of inputs nor the array of weights changes, so we can reuse our input_table and weights vector.\\n\\nStep 2: compute the dot product between the matrix of inputs and weights\\nSince neither the matrix of inputs nor the vector of weights changes, the dot product of those stays the same.\\n\\nStep 3: define the threshold activation function\\nWe can use the linear_threshold_gate function again.'"
      ]
     },
     "execution_count": 11,
     "metadata": {},
     "output_type": "execute_result"
    }
   ],
   "source": [
    "'''Step 1: generate a vector of inputs and a vector of weights\n",
    "Neither the matrix of inputs nor the array of weights changes, so we can reuse our input_table and weights vector.\n",
    "\n",
    "Step 2: compute the dot product between the matrix of inputs and weights\n",
    "Since neither the matrix of inputs nor the vector of weights changes, the dot product of those stays the same.\n",
    "\n",
    "Step 3: define the threshold activation function\n",
    "We can use the linear_threshold_gate function again.'''"
   ]
  },
  {
   "cell_type": "code",
   "execution_count": 12,
   "id": "e97a76bb",
   "metadata": {},
   "outputs": [
    {
     "name": "stdout",
     "output_type": "stream",
     "text": [
      "Activation: 0\n",
      "Activation: 1\n",
      "Activation: 1\n",
      "Activation: 1\n"
     ]
    }
   ],
   "source": [
    "#Step 4: compute the output based on the threshold value\n",
    "T = 1\n",
    "for i in range(0,4):\n",
    "    activation = linear_threshold_gate(dot_products[i], T)\n",
    "    print(f'Activation: {activation}')"
   ]
  },
  {
   "cell_type": "markdown",
   "id": "dc49abd6",
   "metadata": {},
   "source": [
    "# The NOR function"
   ]
  },
  {
   "cell_type": "code",
   "execution_count": 13,
   "id": "9efd071a",
   "metadata": {},
   "outputs": [
    {
     "name": "stdout",
     "output_type": "stream",
     "text": [
      "weights: [-1 -1]\n"
     ]
    }
   ],
   "source": [
    "#Step 1: generate a vector of inputs and a vector of weights\n",
    "# array of weights\n",
    "weights = np.array([-1,-1])\n",
    "print(f'weights: {weights}')"
   ]
  },
  {
   "cell_type": "code",
   "execution_count": 14,
   "id": "81775d8d",
   "metadata": {},
   "outputs": [
    {
     "name": "stdout",
     "output_type": "stream",
     "text": [
      "Dot products: [ 0 -1 -1 -2]\n"
     ]
    }
   ],
   "source": [
    "#Step 2: compute the dot product between the matrix of inputs and weights\n",
    "# dot product matrix of inputs and weights\n",
    "dot_products = input_table @ weights\n",
    "print(f'Dot products: {dot_products}')"
   ]
  },
  {
   "cell_type": "code",
   "execution_count": 15,
   "id": "a7f6990b",
   "metadata": {},
   "outputs": [],
   "source": [
    "#Step 3: define the threshold activation function\n",
    "# The function remains the same."
   ]
  },
  {
   "cell_type": "code",
   "execution_count": 16,
   "id": "fa02d987",
   "metadata": {},
   "outputs": [
    {
     "name": "stdout",
     "output_type": "stream",
     "text": [
      "Activation: 1\n",
      "Activation: 0\n",
      "Activation: 0\n",
      "Activation: 0\n"
     ]
    }
   ],
   "source": [
    "#Step 4: compute the output based on the threshold value\n",
    "T = 0\n",
    "for i in range(0,4):\n",
    "    activation = linear_threshold_gate(dot_products[i], T)\n",
    "    print(f'Activation: {activation}')"
   ]
  },
  {
   "cell_type": "code",
   "execution_count": null,
   "id": "f9932127",
   "metadata": {},
   "outputs": [],
   "source": []
  }
 ],
 "metadata": {
  "kernelspec": {
   "display_name": "Python 3 (ipykernel)",
   "language": "python",
   "name": "python3"
  },
  "language_info": {
   "codemirror_mode": {
    "name": "ipython",
    "version": 3
   },
   "file_extension": ".py",
   "mimetype": "text/x-python",
   "name": "python",
   "nbconvert_exporter": "python",
   "pygments_lexer": "ipython3",
   "version": "3.9.12"
  }
 },
 "nbformat": 4,
 "nbformat_minor": 5
}
