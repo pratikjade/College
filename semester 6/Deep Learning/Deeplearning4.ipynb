{
  "nbformat": 4,
  "nbformat_minor": 0,
  "metadata": {
    "colab": {
      "provenance": []
    },
    "kernelspec": {
      "name": "python3",
      "display_name": "Python 3"
    },
    "language_info": {
      "name": "python"
    }
  },
  "cells": [
    {
      "cell_type": "markdown",
      "source": [
        "**Assignment 4 : Build a Deep Neural Network: Step by Step**"
      ],
      "metadata": {
        "id": "wtDdbVkDYhQ4"
      }
    },
    {
      "cell_type": "code",
      "source": [
        "#1 - Packages\n",
        "import numpy as np\n",
        "import h5py\n",
        "import matplotlib.pyplot as plt\n",
        "\n",
        "%matplotlib inline\n",
        "plt.rcParams['figure.figsize'] = (5.0, 4.0) # set default size of plots\n",
        "plt.rcParams['image.interpolation'] = 'nearest'\n",
        "plt.rcParams['image.cmap'] = 'gray'\n",
        "\n",
        "%load_ext autoreload\n",
        "%autoreload 2\n",
        "\n",
        "np.random.seed(1)"
      ],
      "metadata": {
        "colab": {
          "base_uri": "https://localhost:8080/"
        },
        "id": "34WHasVKgMqd",
        "outputId": "45fbfc3d-4529-43a6-97b8-d2c28577a6d6"
      },
      "execution_count": null,
      "outputs": [
        {
          "output_type": "stream",
          "name": "stdout",
          "text": [
            "The autoreload extension is already loaded. To reload it, use:\n",
            "  %reload_ext autoreload\n"
          ]
        }
      ]
    },
    {
      "cell_type": "code",
      "source": [
        "import numpy as np\n",
        "\n",
        "def sigmoid(Z):\n",
        "    \"\"\"\n",
        "    Implements the sigmoid activation in numpy\n",
        "    \n",
        "    Arguments:\n",
        "    Z -- numpy array of any shape\n",
        "    \n",
        "    Returns:\n",
        "    A -- output of sigmoid(z), same shape as Z\n",
        "    cache -- returns Z as well, useful during backpropagation\n",
        "    \"\"\"\n",
        "    \n",
        "    A = 1/(1+np.exp(-Z))\n",
        "    cache = Z\n",
        "    \n",
        "    return A, cache\n",
        "\n",
        "def relu(Z):\n",
        "    \"\"\"\n",
        "    Implement the RELU function.\n",
        "\n",
        "    Arguments:\n",
        "    Z -- Output of the linear layer, of any shape\n",
        "\n",
        "    Returns:\n",
        "    A -- Post-activation parameter, of the same shape as Z\n",
        "    cache -- a python dictionary containing \"A\" ; stored for computing the backward pass efficiently\n",
        "    \"\"\"\n",
        "    \n",
        "    A = np.maximum(0,Z)\n",
        "    \n",
        "    assert(A.shape == Z.shape)\n",
        "    \n",
        "    cache = Z \n",
        "    return A, cache\n",
        "\n",
        "\n",
        "def relu_backward(dA, cache):\n",
        "    \"\"\"\n",
        "    Implement the backward propagation for a single RELU unit.\n",
        "\n",
        "    Arguments:\n",
        "    dA -- post-activation gradient, of any shape\n",
        "    cache -- 'Z' where we store for computing backward propagation efficiently\n",
        "\n",
        "    Returns:\n",
        "    dZ -- Gradient of the cost with respect to Z\n",
        "    \"\"\"\n",
        "    \n",
        "    Z = cache\n",
        "    dZ = np.array(dA, copy=True) # just converting dz to a correct object.\n",
        "    \n",
        "    # When z <= 0, you should set dz to 0 as well. \n",
        "    dZ[Z <= 0] = 0\n",
        "    \n",
        "    assert (dZ.shape == Z.shape)\n",
        "    \n",
        "    return dZ\n",
        "\n",
        "def sigmoid_backward(dA, cache):\n",
        "    \"\"\"\n",
        "    Implement the backward propagation for a single SIGMOID unit.\n",
        "\n",
        "    Arguments:\n",
        "    dA -- post-activation gradient, of any shape\n",
        "    cache -- 'Z' where we store for computing backward propagation efficiently\n",
        "\n",
        "    Returns:\n",
        "    dZ -- Gradient of the cost with respect to Z\n",
        "    \"\"\"\n",
        "    \n",
        "    Z = cache\n",
        "    \n",
        "    s = 1/(1+np.exp(-Z))\n",
        "    dZ = dA * s * (1-s)\n",
        "    \n",
        "    assert (dZ.shape == Z.shape)\n",
        "    \n",
        "    return dZ\n",
        "\n"
      ],
      "metadata": {
        "id": "LmVqenchgNMC"
      },
      "execution_count": null,
      "outputs": []
    },
    {
      "cell_type": "code",
      "source": [
        "import numpy as np\n",
        "\n",
        "def linear_forward_test_case():\n",
        "    np.random.seed(1)\n",
        "    \"\"\"\n",
        "    X = np.array([[-1.02387576, 1.12397796],\n",
        " [-1.62328545, 0.64667545],\n",
        " [-1.74314104, -0.59664964]])\n",
        "    W = np.array([[ 0.74505627, 1.97611078, -1.24412333]])\n",
        "    b = np.array([[1]])\n",
        "    \"\"\"\n",
        "    A = np.random.randn(3,2)\n",
        "    W = np.random.randn(1,3)\n",
        "    b = np.random.randn(1,1)\n",
        "    \n",
        "    return A, W, b\n",
        "\n",
        "def linear_activation_forward_test_case():\n",
        "    \"\"\"\n",
        "    X = np.array([[-1.02387576, 1.12397796],\n",
        " [-1.62328545, 0.64667545],\n",
        " [-1.74314104, -0.59664964]])\n",
        "    W = np.array([[ 0.74505627, 1.97611078, -1.24412333]])\n",
        "    b = 5\n",
        "    \"\"\"\n",
        "    np.random.seed(2)\n",
        "    A_prev = np.random.randn(3,2)\n",
        "    W = np.random.randn(1,3)\n",
        "    b = np.random.randn(1,1)\n",
        "    return A_prev, W, b\n",
        "\n",
        "def L_model_forward_test_case():\n",
        "    \"\"\"\n",
        "    X = np.array([[-1.02387576, 1.12397796],\n",
        " [-1.62328545, 0.64667545],\n",
        " [-1.74314104, -0.59664964]])\n",
        "    parameters = {'W1': np.array([[ 1.62434536, -0.61175641, -0.52817175],\n",
        "        [-1.07296862,  0.86540763, -2.3015387 ]]),\n",
        " 'W2': np.array([[ 1.74481176, -0.7612069 ]]),\n",
        " 'b1': np.array([[ 0.],\n",
        "        [ 0.]]),\n",
        " 'b2': np.array([[ 0.]])}\n",
        "    \"\"\"\n",
        "    np.random.seed(1)\n",
        "    X = np.random.randn(4,2)\n",
        "    W1 = np.random.randn(3,4)\n",
        "    b1 = np.random.randn(3,1)\n",
        "    W2 = np.random.randn(1,3)\n",
        "    b2 = np.random.randn(1,1)\n",
        "    parameters = {\"W1\": W1,\n",
        "                  \"b1\": b1,\n",
        "                  \"W2\": W2,\n",
        "                  \"b2\": b2}\n",
        "    \n",
        "    return X, parameters\n",
        "\n",
        "def compute_cost_test_case():\n",
        "    Y = np.asarray([[1, 1, 1]])\n",
        "    aL = np.array([[.8,.9,0.4]])\n",
        "    \n",
        "    return Y, aL\n",
        "\n",
        "def linear_backward_test_case():\n",
        "    \"\"\"\n",
        "    z, linear_cache = (np.array([[-0.8019545 ,  3.85763489]]), (np.array([[-1.02387576,  1.12397796],\n",
        "       [-1.62328545,  0.64667545],\n",
        "       [-1.74314104, -0.59664964]]), np.array([[ 0.74505627,  1.97611078, -1.24412333]]), np.array([[1]]))\n",
        "    \"\"\"\n",
        "    np.random.seed(1)\n",
        "    dZ = np.random.randn(1,2)\n",
        "    A = np.random.randn(3,2)\n",
        "    W = np.random.randn(1,3)\n",
        "    b = np.random.randn(1,1)\n",
        "    linear_cache = (A, W, b)\n",
        "    return dZ, linear_cache\n",
        "\n",
        "def linear_activation_backward_test_case():\n",
        "    \"\"\"\n",
        "    aL, linear_activation_cache = (np.array([[ 3.1980455 ,  7.85763489]]), ((np.array([[-1.02387576,  1.12397796], [-1.62328545,  0.64667545], [-1.74314104, -0.59664964]]), np.array([[ 0.74505627,  1.97611078, -1.24412333]]), 5), np.array([[ 3.1980455 ,  7.85763489]])))\n",
        "    \"\"\"\n",
        "    np.random.seed(2)\n",
        "    dA = np.random.randn(1,2)\n",
        "    A = np.random.randn(3,2)\n",
        "    W = np.random.randn(1,3)\n",
        "    b = np.random.randn(1,1)\n",
        "    Z = np.random.randn(1,2)\n",
        "    linear_cache = (A, W, b)\n",
        "    activation_cache = Z\n",
        "    linear_activation_cache = (linear_cache, activation_cache)\n",
        "    \n",
        "    return dA, linear_activation_cache\n",
        "\n",
        "def L_model_backward_test_case():\n",
        "    \"\"\"\n",
        "    X = np.random.rand(3,2)\n",
        "    Y = np.array([[1, 1]])\n",
        "    parameters = {'W1': np.array([[ 1.78862847,  0.43650985,  0.09649747]]), 'b1': np.array([[ 0.]])}\n",
        "\n",
        "    aL, caches = (np.array([[ 0.60298372,  0.87182628]]), [((np.array([[ 0.20445225,  0.87811744],\n",
        "           [ 0.02738759,  0.67046751],\n",
        "           [ 0.4173048 ,  0.55868983]]),\n",
        "    np.array([[ 1.78862847,  0.43650985,  0.09649747]]),\n",
        "    np.array([[ 0.]])),\n",
        "   np.array([[ 0.41791293,  1.91720367]]))])\n",
        "   \"\"\"\n",
        "    np.random.seed(3)\n",
        "    AL = np.random.randn(1, 2)\n",
        "    Y = np.array([[1, 0]])\n",
        "\n",
        "    A1 = np.random.randn(4,2)\n",
        "    W1 = np.random.randn(3,4)\n",
        "    b1 = np.random.randn(3,1)\n",
        "    Z1 = np.random.randn(3,2)\n",
        "    linear_cache_activation_1 = ((A1, W1, b1), Z1)\n",
        "\n",
        "    A2 = np.random.randn(3,2)\n",
        "    W2 = np.random.randn(1,3)\n",
        "    b2 = np.random.randn(1,1)\n",
        "    Z2 = np.random.randn(1,2)\n",
        "    linear_cache_activation_2 = ( (A2, W2, b2), Z2)\n",
        "\n",
        "    caches = (linear_cache_activation_1, linear_cache_activation_2)\n",
        "\n",
        "    return AL, Y, caches\n",
        "\n",
        "def update_parameters_test_case():\n",
        "    \"\"\"\n",
        "    parameters = {'W1': np.array([[ 1.78862847,  0.43650985,  0.09649747],\n",
        "        [-1.8634927 , -0.2773882 , -0.35475898],\n",
        "        [-0.08274148, -0.62700068, -0.04381817],\n",
        "        [-0.47721803, -1.31386475,  0.88462238]]),\n",
        " 'W2': np.array([[ 0.88131804,  1.70957306,  0.05003364, -0.40467741],\n",
        "        [-0.54535995, -1.54647732,  0.98236743, -1.10106763],\n",
        "        [-1.18504653, -0.2056499 ,  1.48614836,  0.23671627]]),\n",
        " 'W3': np.array([[-1.02378514, -0.7129932 ,  0.62524497],\n",
        "        [-0.16051336, -0.76883635, -0.23003072]]),\n",
        " 'b1': np.array([[ 0.],\n",
        "        [ 0.],\n",
        "        [ 0.],\n",
        "        [ 0.]]),\n",
        " 'b2': np.array([[ 0.],\n",
        "        [ 0.],\n",
        "        [ 0.]]),\n",
        " 'b3': np.array([[ 0.],\n",
        "        [ 0.]])}\n",
        "    grads = {'dW1': np.array([[ 0.63070583,  0.66482653,  0.18308507],\n",
        "        [ 0.        ,  0.        ,  0.        ],\n",
        "        [ 0.        ,  0.        ,  0.        ],\n",
        "        [ 0.        ,  0.        ,  0.        ]]),\n",
        " 'dW2': np.array([[ 1.62934255,  0.        ,  0.        ,  0.        ],\n",
        "        [ 0.        ,  0.        ,  0.        ,  0.        ],\n",
        "        [ 0.        ,  0.        ,  0.        ,  0.        ]]),\n",
        " 'dW3': np.array([[-1.40260776,  0.        ,  0.        ]]),\n",
        " 'da1': np.array([[ 0.70760786,  0.65063504],\n",
        "        [ 0.17268975,  0.15878569],\n",
        "        [ 0.03817582,  0.03510211]]),\n",
        " 'da2': np.array([[ 0.39561478,  0.36376198],\n",
        "        [ 0.7674101 ,  0.70562233],\n",
        "        [ 0.0224596 ,  0.02065127],\n",
        "        [-0.18165561, -0.16702967]]),\n",
        " 'da3': np.array([[ 0.44888991,  0.41274769],\n",
        "        [ 0.31261975,  0.28744927],\n",
        "        [-0.27414557, -0.25207283]]),\n",
        " 'db1': 0.75937676204411464,\n",
        " 'db2': 0.86163759922811056,\n",
        " 'db3': -0.84161956022334572}\n",
        "    \"\"\"\n",
        "    np.random.seed(2)\n",
        "    W1 = np.random.randn(3,4)\n",
        "    b1 = np.random.randn(3,1)\n",
        "    W2 = np.random.randn(1,3)\n",
        "    b2 = np.random.randn(1,1)\n",
        "    parameters = {\"W1\": W1,\n",
        "                  \"b1\": b1,\n",
        "                  \"W2\": W2,\n",
        "                  \"b2\": b2}\n",
        "    np.random.seed(3)\n",
        "    dW1 = np.random.randn(3,4)\n",
        "    db1 = np.random.randn(3,1)\n",
        "    dW2 = np.random.randn(1,3)\n",
        "    db2 = np.random.randn(1,1)\n",
        "    grads = {\"dW1\": dW1,\n",
        "             \"db1\": db1,\n",
        "             \"dW2\": dW2,\n",
        "             \"db2\": db2}\n",
        "    \n",
        "    return parameters, grads\n"
      ],
      "metadata": {
        "id": "jAgNyhJbgcCt"
      },
      "execution_count": null,
      "outputs": []
    },
    {
      "cell_type": "code",
      "source": [
        "#2-layer Neural Network\n",
        "# GRADED FUNCTION: initialize_parameters\n",
        "\n",
        "def initialize_parameters(n_x, n_h, n_y):\n",
        "    \"\"\"\n",
        "    Argument:\n",
        "    n_x -- size of the input layer\n",
        "    n_h -- size of the hidden layer\n",
        "    n_y -- size of the output layer\n",
        "    \n",
        "    Returns:\n",
        "    parameters -- python dictionary containing your parameters:\n",
        "                    W1 -- weight matrix of shape (n_h, n_x)\n",
        "                    b1 -- bias vector of shape (n_h, 1)\n",
        "                    W2 -- weight matrix of shape (n_y, n_h)\n",
        "                    b2 -- bias vector of shape (n_y, 1)\n",
        "    \"\"\"\n",
        "    \n",
        "    np.random.seed(1)\n",
        "    \n",
        "    ### START CODE HERE ### (≈ 4 lines of code)\n",
        "    W1 = np.random.randn(n_h, n_x) * 0.01\n",
        "    b1 = np.zeros((n_h, 1))\n",
        "    W2 = np.random.randn(n_y, n_h) * 0.01\n",
        "    b2 = np.zeros((n_y, 1))\n",
        "    ### END CODE HERE ###\n",
        "    \n",
        "    assert(W1.shape == (n_h, n_x))\n",
        "    assert(b1.shape == (n_h, 1))\n",
        "    assert(W2.shape == (n_y, n_h))\n",
        "    assert(b2.shape == (n_y, 1))\n",
        "    \n",
        "    parameters = {\"W1\": W1,\n",
        "                  \"b1\": b1,\n",
        "                  \"W2\": W2,\n",
        "                  \"b2\": b2}\n",
        "    \n",
        "    return parameters   "
      ],
      "metadata": {
        "id": "FvOxXEBCgdZm"
      },
      "execution_count": null,
      "outputs": []
    },
    {
      "cell_type": "code",
      "source": [
        "# GRADED FUNCTION: initialize_parameters_deep\n",
        "\n",
        "def initialize_parameters_deep(layer_dims):\n",
        "    \"\"\"\n",
        "    Arguments:\n",
        "    layer_dims -- python array (list) containing the dimensions of each layer in our network\n",
        "    \n",
        "    Returns:\n",
        "    parameters -- python dictionary containing your parameters \"W1\", \"b1\", ..., \"WL\", \"bL\":\n",
        "                    Wl -- weight matrix of shape (layer_dims[l], layer_dims[l-1])\n",
        "                    bl -- bias vector of shape (layer_dims[l], 1)\n",
        "    \"\"\"\n",
        "    \n",
        "    np.random.seed(3)\n",
        "    parameters = {}\n",
        "    L = len(layer_dims)            # number of layers in the network\n",
        "\n",
        "    for l in range(1, L):\n",
        "        ### START CODE HERE ### (≈ 2 lines of code)\n",
        "        parameters['W' + str(l)] = np.random.randn(layer_dims[l], layer_dims[l-1]) * 0.01\n",
        "        parameters['b' + str(l)] = np.zeros((layer_dims[l], 1))\n",
        "        ### END CODE HERE ###\n",
        "        \n",
        "        assert(parameters['W' + str(l)].shape == (layer_dims[l], layer_dims[l-1]))\n",
        "        assert(parameters['b' + str(l)].shape == (layer_dims[l], 1))\n",
        "\n",
        "        \n",
        "    return parameters"
      ],
      "metadata": {
        "id": "2CYVQYcfgiYp"
      },
      "execution_count": null,
      "outputs": []
    },
    {
      "cell_type": "code",
      "source": [
        "parameters = initialize_parameters_deep([5,4,3])\n",
        "print(\"W1 = \" + str(parameters[\"W1\"]))\n",
        "print(\"b1 = \" + str(parameters[\"b1\"]))\n",
        "print(\"W2 = \" + str(parameters[\"W2\"]))\n",
        "print(\"b2 = \" + str(parameters[\"b2\"]))"
      ],
      "metadata": {
        "colab": {
          "base_uri": "https://localhost:8080/"
        },
        "id": "I9Y38aFxgkGW",
        "outputId": "25ed1ba3-19d9-424a-d9a4-4b1e0b9e6864"
      },
      "execution_count": null,
      "outputs": [
        {
          "output_type": "stream",
          "name": "stdout",
          "text": [
            "W1 = [[ 0.01788628  0.0043651   0.00096497 -0.01863493 -0.00277388]\n",
            " [-0.00354759 -0.00082741 -0.00627001 -0.00043818 -0.00477218]\n",
            " [-0.01313865  0.00884622  0.00881318  0.01709573  0.00050034]\n",
            " [-0.00404677 -0.0054536  -0.01546477  0.00982367 -0.01101068]]\n",
            "b1 = [[0.]\n",
            " [0.]\n",
            " [0.]\n",
            " [0.]]\n",
            "W2 = [[-0.01185047 -0.0020565   0.01486148  0.00236716]\n",
            " [-0.01023785 -0.00712993  0.00625245 -0.00160513]\n",
            " [-0.00768836 -0.00230031  0.00745056  0.01976111]]\n",
            "b2 = [[0.]\n",
            " [0.]\n",
            " [0.]]\n"
          ]
        }
      ]
    },
    {
      "cell_type": "code",
      "source": [
        " #Forward propagation module\n",
        "# GRADED FUNCTION: linear_forward\n",
        "\n",
        "def linear_forward(A, W, b):\n",
        "    \"\"\"\n",
        "    Implement the linear part of a layer's forward propagation.\n",
        "\n",
        "    Arguments:\n",
        "    A -- activations from previous layer (or input data): (size of previous layer, number of examples)\n",
        "    W -- weights matrix: numpy array of shape (size of current layer, size of previous layer)\n",
        "    b -- bias vector, numpy array of shape (size of the current layer, 1)\n",
        "\n",
        "    Returns:\n",
        "    Z -- the input of the activation function, also called pre-activation parameter \n",
        "    cache -- a python dictionary containing \"A\", \"W\" and \"b\" ; stored for computing the backward pass efficiently\n",
        "    \"\"\"\n",
        "    \n",
        "    ### START CODE HERE ### (≈ 1 line of code)\n",
        "    Z = np.dot(W, A) + b\n",
        "    ### END CODE HERE ###\n",
        "    \n",
        "    assert(Z.shape == (W.shape[0], A.shape[1]))\n",
        "    cache = (A, W, b)\n",
        "    \n",
        "    return Z, cache"
      ],
      "metadata": {
        "id": "TBiPSt_8glUD"
      },
      "execution_count": null,
      "outputs": []
    },
    {
      "cell_type": "code",
      "source": [
        "A, W, b = linear_forward_test_case()\n",
        "\n",
        "Z, linear_cache = linear_forward(A, W, b)\n",
        "print(\"Z = \" + str(Z))"
      ],
      "metadata": {
        "colab": {
          "base_uri": "https://localhost:8080/"
        },
        "id": "FAum7RoYgnE9",
        "outputId": "de47d54c-5174-4a7c-d03a-65547fc8dbcc"
      },
      "execution_count": null,
      "outputs": [
        {
          "output_type": "stream",
          "name": "stdout",
          "text": [
            "Z = [[ 3.26295337 -1.23429987]]\n"
          ]
        }
      ]
    },
    {
      "cell_type": "code",
      "source": [
        "#Linear-Activation Forward\n",
        "# GRADED FUNCTION: linear_activation_forward\n",
        "\n",
        "def linear_activation_forward(A_prev, W, b, activation):\n",
        "    \"\"\"\n",
        "    Implement the forward propagation for the LINEAR->ACTIVATION layer\n",
        "\n",
        "    Arguments:\n",
        "    A_prev -- activations from previous layer (or input data): (size of previous layer, number of examples)\n",
        "    W -- weights matrix: numpy array of shape (size of current layer, size of previous layer)\n",
        "    b -- bias vector, numpy array of shape (size of the current layer, 1)\n",
        "    activation -- the activation to be used in this layer, stored as a text string: \"sigmoid\" or \"relu\"\n",
        "\n",
        "    Returns:\n",
        "    A -- the output of the activation function, also called the post-activation value \n",
        "    cache -- a python dictionary containing \"linear_cache\" and \"activation_cache\";\n",
        "             stored for computing the backward pass efficiently\n",
        "    \"\"\"\n",
        "    \n",
        "    if activation == \"sigmoid\":\n",
        "        # Inputs: \"A_prev, W, b\". Outputs: \"A, activation_cache\".\n",
        "        ### START CODE HERE ### (≈ 2 lines of code)\n",
        "        Z, linear_cache = linear_forward(A_prev, W, b)\n",
        "        A, activation_cache = sigmoid(Z)\n",
        "        ### END CODE HERE ###\n",
        "    \n",
        "    elif activation == \"relu\":\n",
        "        # Inputs: \"A_prev, W, b\". Outputs: \"A, activation_cache\".\n",
        "        ### START CODE HERE ### (≈ 2 lines of code)\n",
        "        Z, linear_cache = linear_forward(A_prev, W, b)\n",
        "        A, activation_cache = relu(Z)\n",
        "        ### END CODE HERE ###\n",
        "    \n",
        "    assert (A.shape == (W.shape[0], A_prev.shape[1]))\n",
        "    cache = (linear_cache, activation_cache)\n",
        "\n",
        "    return A, cache"
      ],
      "metadata": {
        "id": "DPuYoJQFgoR4"
      },
      "execution_count": null,
      "outputs": []
    },
    {
      "cell_type": "code",
      "source": [
        "A_prev, W, b = linear_activation_forward_test_case()\n",
        "\n",
        "A, linear_activation_cache = linear_activation_forward(A_prev, W, b, activation = \"sigmoid\")\n",
        "print(\"With sigmoid: A = \" + str(A))\n",
        "\n",
        "A, linear_activation_cache = linear_activation_forward(A_prev, W, b, activation = \"relu\")\n",
        "print(\"With ReLU: A = \" + str(A))"
      ],
      "metadata": {
        "colab": {
          "base_uri": "https://localhost:8080/"
        },
        "id": "jb6lgPZzgpe0",
        "outputId": "247bac9b-771f-4fa1-8118-cdf57e1f839c"
      },
      "execution_count": null,
      "outputs": [
        {
          "output_type": "stream",
          "name": "stdout",
          "text": [
            "With sigmoid: A = [[0.96890023 0.11013289]]\n",
            "With ReLU: A = [[3.43896131 0.        ]]\n"
          ]
        }
      ]
    },
    {
      "cell_type": "code",
      "source": [
        "# GRADED FUNCTION: L_model_forward\n",
        "\n",
        "def L_model_forward(X, parameters):\n",
        "    \"\"\"\n",
        "    Implement forward propagation for the [LINEAR->RELU]*(L-1)->LINEAR->SIGMOID computation\n",
        "    \n",
        "    Arguments:\n",
        "    X -- data, numpy array of shape (input size, number of examples)\n",
        "    parameters -- output of initialize_parameters_deep()\n",
        "    \n",
        "    Returns:\n",
        "    AL -- last post-activation value\n",
        "    caches -- list of caches containing:\n",
        "                every cache of linear_relu_forward() (there are L-1 of them, indexed from 0 to L-2)\n",
        "                the cache of linear_sigmoid_forward() (there is one, indexed L-1)\n",
        "    \"\"\"\n",
        "\n",
        "    caches = []\n",
        "    A = X\n",
        "    L = len(parameters) // 2                  # number of layers in the neural network\n",
        "    \n",
        "    # Implement [LINEAR -> RELU]*(L-1). Add \"cache\" to the \"caches\" list.\n",
        "    for l in range(1, L):\n",
        "        A_prev = A \n",
        "        ### START CODE HERE ### (≈ 2 lines of code)\n",
        "        A, cache = linear_activation_forward(\n",
        "            A_prev, \n",
        "            parameters['W' + str(l)], \n",
        "            parameters['b' + str(l)], \n",
        "            'relu')\n",
        "        caches.append(cache)\n",
        "        ### END CODE HERE ###\n",
        "    \n",
        "    # Implement LINEAR -> SIGMOID. Add \"cache\" to the \"caches\" list.\n",
        "    ### START CODE HERE ### (≈ 2 lines of code)\n",
        "    AL, cache = linear_activation_forward(\n",
        "        A, \n",
        "        parameters['W' + str(L)], \n",
        "        parameters['b' + str(L)], \n",
        "        'sigmoid')\n",
        "    caches.append(cache)\n",
        "    ### END CODE HERE ###\n",
        "    \n",
        "    assert(AL.shape == (1,X.shape[1]))\n",
        "            \n",
        "    return AL, caches"
      ],
      "metadata": {
        "id": "MsEurTirgrCW"
      },
      "execution_count": null,
      "outputs": []
    },
    {
      "cell_type": "code",
      "source": [
        "X, parameters = L_model_forward_test_case()\n",
        "AL, caches = L_model_forward(X, parameters)\n",
        "print(\"AL = \" + str(AL))\n",
        "print(\"Length of caches list = \" + str(len(caches)))"
      ],
      "metadata": {
        "colab": {
          "base_uri": "https://localhost:8080/"
        },
        "id": "KGobpEIqgshB",
        "outputId": "78418ba8-4614-45d7-cae9-2d82b2054ff5"
      },
      "execution_count": null,
      "outputs": [
        {
          "output_type": "stream",
          "name": "stdout",
          "text": [
            "AL = [[0.17007265 0.2524272 ]]\n",
            "Length of caches list = 2\n"
          ]
        }
      ]
    },
    {
      "cell_type": "code",
      "source": [
        "#Cost function\n",
        "# GRADED FUNCTION: compute_cost\n",
        "\n",
        "def compute_cost(AL, Y):\n",
        "    \"\"\"\n",
        "    Implement the cost function defined by equation (7).\n",
        "\n",
        "    Arguments:\n",
        "    AL -- probability vector corresponding to your label predictions, shape (1, number of examples)\n",
        "    Y -- true \"label\" vector (for example: containing 0 if non-cat, 1 if cat), shape (1, number of examples)\n",
        "\n",
        "    Returns:\n",
        "    cost -- cross-entropy cost\n",
        "    \"\"\"\n",
        "    \n",
        "    m = Y.shape[1]\n",
        "\n",
        "    # Compute loss from aL and y.\n",
        "    ### START CODE HERE ### (≈ 1 lines of code)\n",
        "    cost = - (np.dot(Y, np.log(AL).T) + np.dot((1 - Y), np.log(1 - AL).T)) / m\n",
        "    ### END CODE HERE ###\n",
        "    \n",
        "    cost = np.squeeze(cost)      # To make sure your cost's shape is what we expect (e.g. this turns [[17]] into 17).\n",
        "    assert(cost.shape == ())\n",
        "    return cost"
      ],
      "metadata": {
        "id": "nVKHq4IDgt3R"
      },
      "execution_count": null,
      "outputs": []
    },
    {
      "cell_type": "code",
      "source": [
        "Y, AL = compute_cost_test_case()\n",
        "\n",
        "print(\"cost = \" + str(compute_cost(AL, Y)))"
      ],
      "metadata": {
        "colab": {
          "base_uri": "https://localhost:8080/"
        },
        "id": "RkJop3nIgu8Y",
        "outputId": "5e358408-25fb-48cc-e8a0-1aaa0de0b5b3"
      },
      "execution_count": null,
      "outputs": [
        {
          "output_type": "stream",
          "name": "stdout",
          "text": [
            "cost = 0.414931599615397\n"
          ]
        }
      ]
    },
    {
      "cell_type": "code",
      "source": [
        "#Backward propagation module\n",
        "# GRADED FUNCTION: linear_backward\n",
        "\n",
        "def linear_backward(dZ, cache):\n",
        "    \"\"\"\n",
        "    Implement the linear portion of backward propagation for a single layer (layer l)\n",
        "\n",
        "    Arguments:\n",
        "    dZ -- Gradient of the cost with respect to the linear output (of current layer l)\n",
        "    cache -- tuple of values (A_prev, W, b) coming from the forward propagation in the current layer\n",
        "\n",
        "    Returns:\n",
        "    dA_prev -- Gradient of the cost with respect to the activation (of the previous layer l-1), same shape as A_prev\n",
        "    dW -- Gradient of the cost with respect to W (current layer l), same shape as W\n",
        "    db -- Gradient of the cost with respect to b (current layer l), same shape as b\n",
        "    \"\"\"\n",
        "    A_prev, W, b = cache\n",
        "    m = A_prev.shape[1]\n",
        "\n",
        "    ### START CODE HERE ### (≈ 3 lines of code)\n",
        "    dW = np.dot(dZ, A_prev.T) / m\n",
        "    db = np.sum(dZ, axis=1, keepdims=True) / m\n",
        "    dA_prev = np.dot(W.T, dZ)\n",
        "    ### END CODE HERE ###\n",
        "    \n",
        "    assert (dA_prev.shape == A_prev.shape)\n",
        "    assert (dW.shape == W.shape)\n",
        "    assert (db.shape == b.shape)\n",
        "    \n",
        "    return dA_prev, dW, db"
      ],
      "metadata": {
        "id": "8qB7rF8agwLV"
      },
      "execution_count": null,
      "outputs": []
    },
    {
      "cell_type": "code",
      "source": [
        "# Set up some test inputs\n",
        "dZ, linear_cache = linear_backward_test_case()\n",
        "\n",
        "dA_prev, dW, db = linear_backward(dZ, linear_cache)\n",
        "print (\"dA_prev = \"+ str(dA_prev))\n",
        "print (\"dW = \" + str(dW))\n",
        "print (\"db = \" + str(db))"
      ],
      "metadata": {
        "colab": {
          "base_uri": "https://localhost:8080/"
        },
        "id": "7l1lzRRKgxWq",
        "outputId": "b324b632-2550-4829-c933-6f33671b069c"
      },
      "execution_count": null,
      "outputs": [
        {
          "output_type": "stream",
          "name": "stdout",
          "text": [
            "dA_prev = [[ 0.51822968 -0.19517421]\n",
            " [-0.40506361  0.15255393]\n",
            " [ 2.37496825 -0.89445391]]\n",
            "dW = [[-0.10076895  1.40685096  1.64992505]]\n",
            "db = [[0.50629448]]\n"
          ]
        }
      ]
    },
    {
      "cell_type": "code",
      "source": [
        "# GRADED FUNCTION: linear_activation_backward\n",
        "\n",
        "def linear_activation_backward(dA, cache, activation):\n",
        "    \"\"\"\n",
        "    Implement the backward propagation for the LINEAR->ACTIVATION layer.\n",
        "    \n",
        "    Arguments:\n",
        "    dA -- post-activation gradient for current layer l \n",
        "    cache -- tuple of values (linear_cache, activation_cache) we store for computing backward propagation efficiently\n",
        "    activation -- the activation to be used in this layer, stored as a text string: \"sigmoid\" or \"relu\"\n",
        "    \n",
        "    Returns:\n",
        "    dA_prev -- Gradient of the cost with respect to the activation (of the previous layer l-1), same shape as A_prev\n",
        "    dW -- Gradient of the cost with respect to W (current layer l), same shape as W\n",
        "    db -- Gradient of the cost with respect to b (current layer l), same shape as b\n",
        "    \"\"\"\n",
        "    linear_cache, activation_cache = cache\n",
        "    \n",
        "    if activation == \"relu\":\n",
        "        ### START CODE HERE ### (≈ 2 lines of code)\n",
        "        dZ = relu_backward(dA, activation_cache)\n",
        "        dA_prev, dW, db = linear_backward(dZ, linear_cache)\n",
        "        ### END CODE HERE ###\n",
        "        \n",
        "    elif activation == \"sigmoid\":\n",
        "        ### START CODE HERE ### (≈ 2 lines of code)\n",
        "        dZ = sigmoid_backward(dA, activation_cache)\n",
        "        dA_prev, dW, db = linear_backward(dZ, linear_cache)\n",
        "        ### END CODE HERE ###\n",
        "    \n",
        "    return dA_prev, dW, db"
      ],
      "metadata": {
        "id": "WqJLFrfygyoy"
      },
      "execution_count": null,
      "outputs": []
    },
    {
      "cell_type": "code",
      "source": [
        "AL, linear_activation_cache = linear_activation_backward_test_case()\n",
        "\n",
        "dA_prev, dW, db = linear_activation_backward(AL, linear_activation_cache, activation = \"sigmoid\")\n",
        "print (\"sigmoid:\")\n",
        "print (\"dA_prev = \"+ str(dA_prev))\n",
        "print (\"dW = \" + str(dW))\n",
        "print (\"db = \" + str(db) + \"\\n\")\n",
        "\n",
        "dA_prev, dW, db = linear_activation_backward(AL, linear_activation_cache, activation = \"relu\")\n",
        "print (\"relu:\")\n",
        "print (\"dA_prev = \"+ str(dA_prev))\n",
        "print (\"dW = \" + str(dW))\n",
        "print (\"db = \" + str(db))"
      ],
      "metadata": {
        "colab": {
          "base_uri": "https://localhost:8080/"
        },
        "id": "SJ9APypIg0t7",
        "outputId": "fa47d058-1252-41cf-f65e-f316e99c670d"
      },
      "execution_count": null,
      "outputs": [
        {
          "output_type": "stream",
          "name": "stdout",
          "text": [
            "sigmoid:\n",
            "dA_prev = [[ 0.11017994  0.01105339]\n",
            " [ 0.09466817  0.00949723]\n",
            " [-0.05743092 -0.00576154]]\n",
            "dW = [[ 0.10266786  0.09778551 -0.01968084]]\n",
            "db = [[-0.05729622]]\n",
            "\n",
            "relu:\n",
            "dA_prev = [[ 0.44090989  0.        ]\n",
            " [ 0.37883606  0.        ]\n",
            " [-0.2298228   0.        ]]\n",
            "dW = [[ 0.44513824  0.37371418 -0.10478989]]\n",
            "db = [[-0.20837892]]\n"
          ]
        }
      ]
    },
    {
      "cell_type": "code",
      "source": [
        "# GRADED FUNCTION: L_model_backward\n",
        "\n",
        "def L_model_backward(AL, Y, caches):\n",
        "    \"\"\"\n",
        "    Implement the backward propagation for the [LINEAR->RELU] * (L-1) -> LINEAR -> SIGMOID group\n",
        "    \n",
        "    Arguments:\n",
        "    AL -- probability vector, output of the forward propagation (L_model_forward())\n",
        "    Y -- true \"label\" vector (containing 0 if non-cat, 1 if cat)\n",
        "    caches -- list of caches containing:\n",
        "                every cache of linear_activation_forward() with \"relu\" (it's caches[l], for l in range(L-1) i.e l = 0...L-2)\n",
        "                the cache of linear_activation_forward() with \"sigmoid\" (it's caches[L-1])\n",
        "    \n",
        "    Returns:\n",
        "    grads -- A dictionary with the gradients\n",
        "             grads[\"dA\" + str(l)] = ... \n",
        "             grads[\"dW\" + str(l)] = ...\n",
        "             grads[\"db\" + str(l)] = ... \n",
        "    \"\"\"\n",
        "    grads = {}\n",
        "    L = len(caches) # the number of layers\n",
        "    m = AL.shape[1]\n",
        "    Y = Y.reshape(AL.shape) # after this line, Y is the same shape as AL\n",
        "    \n",
        "    # Initializing the backpropagation\n",
        "    ### START CODE HERE ### (1 line of code)\n",
        "    dAL = -(Y/AL - (1-Y)/(1-AL))\n",
        "    ### END CODE HERE ###\n",
        "    \n",
        "    # Lth layer (SIGMOID -> LINEAR) gradients. Inputs: \"AL, Y, caches\". Outputs: \"grads[\"dAL\"], grads[\"dWL\"], grads[\"dbL\"]\n",
        "    ### START CODE HERE ### (approx. 2 lines)\n",
        "    current_cache = caches[L-1]\n",
        "    dAl, dWl, dbl = linear_activation_backward(dAL, current_cache, 'sigmoid')\n",
        "    grads[\"dA\" + str(L)] = dAl\n",
        "    grads[\"dW\" + str(L)] = dWl\n",
        "    grads[\"db\" + str(L)] = dbl\n",
        "    ### END CODE HERE ###\n",
        "    \n",
        "    for l in reversed(range(L-1)):\n",
        "        # lth layer: (RELU -> LINEAR) gradients.\n",
        "        # Inputs: \"grads[\"dA\" + str(l + 2)], caches\". Outputs: \"grads[\"dA\" + str(l + 1)] , grads[\"dW\" + str(l + 1)] , grads[\"db\" + str(l + 1)] \n",
        "        ### START CODE HERE ### (approx. 5 lines)\n",
        "        current_cache = caches[l]\n",
        "        dAl, dWl, dbl = linear_activation_backward(dAl, current_cache, 'relu')\n",
        "        grads[\"dA\" + str(l + 1)] = dAl\n",
        "        grads[\"dW\" + str(l + 1)] = dWl\n",
        "        grads[\"db\" + str(l + 1)] = dbl\n",
        "        ### END CODE HERE ###\n",
        "\n",
        "    return grads"
      ],
      "metadata": {
        "id": "4Lev01h-g2qC"
      },
      "execution_count": null,
      "outputs": []
    },
    {
      "cell_type": "code",
      "source": [
        "AL, Y_assess, caches = L_model_backward_test_case()\n",
        "grads = L_model_backward(AL, Y_assess, caches)\n",
        "print (\"dW1 = \"+ str(grads[\"dW1\"]))\n",
        "print (\"db1 = \"+ str(grads[\"db1\"]))\n",
        "print (\"dA1 = \"+ str(grads[\"dA1\"]))"
      ],
      "metadata": {
        "colab": {
          "base_uri": "https://localhost:8080/"
        },
        "id": "sn7i-MDVg38i",
        "outputId": "9d56383b-449a-4abf-b4e7-188d99cadb1d"
      },
      "execution_count": null,
      "outputs": [
        {
          "output_type": "stream",
          "name": "stdout",
          "text": [
            "dW1 = [[0.41010002 0.07807203 0.13798444 0.10502167]\n",
            " [0.         0.         0.         0.        ]\n",
            " [0.05283652 0.01005865 0.01777766 0.0135308 ]]\n",
            "db1 = [[-0.22007063]\n",
            " [ 0.        ]\n",
            " [-0.02835349]]\n",
            "dA1 = [[ 0.          0.52257901]\n",
            " [ 0.         -0.3269206 ]\n",
            " [ 0.         -0.32070404]\n",
            " [ 0.         -0.74079187]]\n"
          ]
        }
      ]
    },
    {
      "cell_type": "code",
      "source": [
        "# GRADED FUNCTION: update_parameters\n",
        "\n",
        "def update_parameters(parameters, grads, learning_rate):\n",
        "    \"\"\"\n",
        "    Update parameters using gradient descent\n",
        "    \n",
        "    Arguments:\n",
        "    parameters -- python dictionary containing your parameters \n",
        "    grads -- python dictionary containing your gradients, output of L_model_backward\n",
        "    \n",
        "    Returns:\n",
        "    parameters -- python dictionary containing your updated parameters \n",
        "                  parameters[\"W\" + str(l)] = ... \n",
        "                  parameters[\"b\" + str(l)] = ...\n",
        "    \"\"\"\n",
        "    \n",
        "    L = len(parameters) // 2 # number of layers in the neural network\n",
        "\n",
        "    # Update rule for each parameter. Use a for loop.\n",
        "    ### START CODE HERE ### (≈ 3 lines of code)\n",
        "    for l in range(L):\n",
        "        parameters[\"W\" + str(l+1)] -= learning_rate * grads['dW' + str(l+1)]\n",
        "        parameters[\"b\" + str(l+1)] -= learning_rate * grads['db' + str(l+1)]\n",
        "    ### END CODE HERE ###\n",
        "        \n",
        "    return parameters"
      ],
      "metadata": {
        "id": "5oXefy1qg5H_"
      },
      "execution_count": null,
      "outputs": []
    },
    {
      "cell_type": "code",
      "source": [
        "parameters, grads = update_parameters_test_case()\n",
        "parameters = update_parameters(parameters, grads, 0.1)\n",
        "\n",
        "print (\"W1 = \"+ str(parameters[\"W1\"]))\n",
        "print (\"b1 = \"+ str(parameters[\"b1\"]))\n",
        "print (\"W2 = \"+ str(parameters[\"W2\"]))\n",
        "print (\"b2 = \"+ str(parameters[\"b2\"]))"
      ],
      "metadata": {
        "colab": {
          "base_uri": "https://localhost:8080/"
        },
        "id": "8wJR7g_tg6Q3",
        "outputId": "6e413b25-6c1c-411a-8702-4c120192823f"
      },
      "execution_count": null,
      "outputs": [
        {
          "output_type": "stream",
          "name": "stdout",
          "text": [
            "W1 = [[-0.59562069 -0.09991781 -2.14584584  1.82662008]\n",
            " [-1.76569676 -0.80627147  0.51115557 -1.18258802]\n",
            " [-1.0535704  -0.86128581  0.68284052  2.20374577]]\n",
            "b1 = [[-0.04659241]\n",
            " [-1.28888275]\n",
            " [ 0.53405496]]\n",
            "W2 = [[-0.55569196  0.0354055   1.32964895]]\n",
            "b2 = [[-0.84610769]]\n"
          ]
        }
      ]
    },
    {
      "cell_type": "code",
      "source": [],
      "metadata": {
        "id": "Oo45V6Idg7dj"
      },
      "execution_count": null,
      "outputs": []
    }
  ]
}